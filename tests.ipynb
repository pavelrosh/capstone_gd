{
 "cells": [
  {
   "cell_type": "code",
   "execution_count": 1,
   "metadata": {},
   "outputs": [],
   "source": [
    "import unittest\n",
    "from pyspark.sql import SparkSession\n",
    "from pyspark.sql.functions import udf, col, array, lit\n",
    "from sources import *"
   ]
  },
  {
   "cell_type": "code",
   "execution_count": 3,
   "metadata": {},
   "outputs": [],
   "source": [
    "class CapstoneTest(unittest.TestCase):\n",
    "    def __init__(self, *args, **kwargs):\n",
    "        super().__init__(*args, **kwargs)\n",
    "        self.spark = SparkSession.builder.master('local[2]').appName('my-local-testing-pyspark-context').getOrCreate()\n",
    "   \n",
    "    def test_load_clickstream(self):\n",
    "        clickstream_df = self.spark.read.csv(sep=r'\\t', \n",
    "                                        path='input_csv_datasets/mobile-app-clickstream_sample.tsv', \n",
    "                                        header=True)\n",
    "        assert clickstream_df.count() == 39\n",
    "        \n",
    "    def test_load_purchases(self):\n",
    "        purchases_df = self.spark.read.csv('input_csv_datasets/purchases_sample.csv', header=True)\n",
    "        assert purchases_df.count() == 6\n",
    "    \n",
    "    def test_udf(self):\n",
    "        clickstream_df = self.spark.read.csv(sep=r'\\t', \n",
    "                                        path='input_csv_datasets/mobile-app-clickstream_sample.tsv', \n",
    "                                        header=True)\n",
    "        df = parse_attributes(clickstream_df)\n",
    "        \n",
    "        rows = df.select('campaignId', 'channelId').collect()\n",
    "        campaign_ids = [row.campaignId for row in rows]\n",
    "        channel_ids = [row.channelId for row in rows]\n",
    "        \n",
    "        assert 'cmp1' in campaign_ids\n",
    "        assert 'cmp2' in campaign_ids\n",
    "        assert 'Google Ads' in channel_ids\n",
    "        \n",
    "    def test_check_users_in_sessions(self):\n",
    "        sessions_df = get_session_df(self.spark)\n",
    "        rows = sessions_df.select('userId').collect()\n",
    "        ids = list(set([row.userId for row in rows]))\n",
    "        assert 'u2' in ids \n",
    "        assert 'u1' in ids\n",
    "        assert 'u3' in ids\n",
    "    \n",
    "    def test_check_session_in_purchases(self):\n",
    "        df = provide_sessions_for_purchases(self.spark)\n",
    "        assert df.count() == 6\n",
    "    "
   ]
  },
  {
   "cell_type": "code",
   "execution_count": 6,
   "metadata": {},
   "outputs": [
    {
     "name": "stderr",
     "output_type": "stream",
     "text": [
      "test_check_session_in_purchases (__main__.CapstoneTest) ... ok\n",
      "test_check_users_in_sessions (__main__.CapstoneTest) ... /Users/proshchyna/.pyenv/versions/3.8.6/lib/python3.8/socket.py:740: ResourceWarning: unclosed <socket.socket fd=65, family=AddressFamily.AF_INET, type=SocketKind.SOCK_STREAM, proto=6, laddr=('127.0.0.1', 54733), raddr=('127.0.0.1', 54732)>\n",
      "  self._sock = None\n",
      "ResourceWarning: Enable tracemalloc to get the object allocation traceback\n",
      "ok\n",
      "test_load_clickstream (__main__.CapstoneTest) ... ok\n",
      "test_load_purchases (__main__.CapstoneTest) ... ok\n",
      "test_udf (__main__.CapstoneTest) ... /Users/proshchyna/.pyenv/versions/3.8.6/lib/python3.8/socket.py:740: ResourceWarning: unclosed <socket.socket fd=65, family=AddressFamily.AF_INET, type=SocketKind.SOCK_STREAM, proto=6, laddr=('127.0.0.1', 54735), raddr=('127.0.0.1', 54734)>\n",
      "  self._sock = None\n",
      "ResourceWarning: Enable tracemalloc to get the object allocation traceback\n",
      "ok\n",
      "\n",
      "----------------------------------------------------------------------\n",
      "Ran 5 tests in 2.361s\n",
      "\n",
      "OK\n"
     ]
    },
    {
     "data": {
      "text/plain": [
       "<unittest.main.TestProgram at 0x1105958e0>"
      ]
     },
     "execution_count": 6,
     "metadata": {},
     "output_type": "execute_result"
    }
   ],
   "source": [
    "unittest.main(argv=[''], verbosity=2, exit=False)"
   ]
  },
  {
   "cell_type": "code",
   "execution_count": null,
   "metadata": {},
   "outputs": [],
   "source": []
  }
 ],
 "metadata": {
  "kernelspec": {
   "display_name": "Python 3",
   "language": "python",
   "name": "python3"
  },
  "language_info": {
   "codemirror_mode": {
    "name": "ipython",
    "version": 3
   },
   "file_extension": ".py",
   "mimetype": "text/x-python",
   "name": "python",
   "nbconvert_exporter": "python",
   "pygments_lexer": "ipython3",
   "version": "3.8.6"
  }
 },
 "nbformat": 4,
 "nbformat_minor": 4
}
